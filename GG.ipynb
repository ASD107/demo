{
 "cells": [
  {
   "cell_type": "code",
   "execution_count": null,
   "id": "5490fa0c",
   "metadata": {},
   "outputs": [],
   "source": [
    "from IPython.display import display, IFrame\n",
    "\n",
    "# Define the URL to embed\n",
    "url_to_embed = \"https://ayman107sh1071.wixstudio.io/my-site\"\n",
    "\n",
    "# Number of iframes to embed\n",
    "num_iframes = 10\n",
    "\n",
    "# Create and display multiple iframes\n",
    "for i in range(num_iframes):\n",
    "    display(IFrame(url_to_embed, width='50%', height=200))\n"
   ]
  }
 ],
 "metadata": {
  "kernelspec": {
   "display_name": "Python 3 (ipykernel)",
   "language": "python",
   "name": "python3"
  },
  "language_info": {
   "codemirror_mode": {
    "name": "ipython",
    "version": 3
   },
   "file_extension": ".py",
   "mimetype": "text/x-python",
   "name": "python",
   "nbconvert_exporter": "python",
   "pygments_lexer": "ipython3",
   "version": "3.11.5"
  }
 },
 "nbformat": 4,
 "nbformat_minor": 5
}
